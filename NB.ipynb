{
 "cells": [
  {
   "cell_type": "code",
   "execution_count": 1,
   "metadata": {},
   "outputs": [],
   "source": [
    "import pandas as pd"
   ]
  },
  {
   "cell_type": "code",
   "execution_count": 2,
   "metadata": {},
   "outputs": [
    {
     "name": "stdout",
     "output_type": "stream",
     "text": [
      "(14, 5)\n"
     ]
    },
    {
     "data": {
      "text/html": [
       "<div>\n",
       "<style scoped>\n",
       "    .dataframe tbody tr th:only-of-type {\n",
       "        vertical-align: middle;\n",
       "    }\n",
       "\n",
       "    .dataframe tbody tr th {\n",
       "        vertical-align: top;\n",
       "    }\n",
       "\n",
       "    .dataframe thead th {\n",
       "        text-align: right;\n",
       "    }\n",
       "</style>\n",
       "<table border=\"1\" class=\"dataframe\">\n",
       "  <thead>\n",
       "    <tr style=\"text-align: right;\">\n",
       "      <th></th>\n",
       "      <th>outlook</th>\n",
       "      <th>temp</th>\n",
       "      <th>humidity</th>\n",
       "      <th>wind</th>\n",
       "      <th>label</th>\n",
       "    </tr>\n",
       "  </thead>\n",
       "  <tbody>\n",
       "    <tr>\n",
       "      <th>0</th>\n",
       "      <td>Sunny</td>\n",
       "      <td>Hot</td>\n",
       "      <td>High</td>\n",
       "      <td>Weak</td>\n",
       "      <td>No</td>\n",
       "    </tr>\n",
       "    <tr>\n",
       "      <th>1</th>\n",
       "      <td>Sunny</td>\n",
       "      <td>Hot</td>\n",
       "      <td>High</td>\n",
       "      <td>Strong</td>\n",
       "      <td>No</td>\n",
       "    </tr>\n",
       "    <tr>\n",
       "      <th>2</th>\n",
       "      <td>Overcast</td>\n",
       "      <td>Hot</td>\n",
       "      <td>High</td>\n",
       "      <td>Weak</td>\n",
       "      <td>Yes</td>\n",
       "    </tr>\n",
       "    <tr>\n",
       "      <th>3</th>\n",
       "      <td>Rain</td>\n",
       "      <td>Mild</td>\n",
       "      <td>High</td>\n",
       "      <td>Weak</td>\n",
       "      <td>Yes</td>\n",
       "    </tr>\n",
       "    <tr>\n",
       "      <th>4</th>\n",
       "      <td>Rain</td>\n",
       "      <td>Cool</td>\n",
       "      <td>Normal</td>\n",
       "      <td>Weak</td>\n",
       "      <td>Yes</td>\n",
       "    </tr>\n",
       "  </tbody>\n",
       "</table>\n",
       "</div>"
      ],
      "text/plain": [
       "    outlook  temp humidity    wind label\n",
       "0     Sunny   Hot     High    Weak    No\n",
       "1     Sunny   Hot     High  Strong    No\n",
       "2  Overcast   Hot     High    Weak   Yes\n",
       "3      Rain  Mild     High    Weak   Yes\n",
       "4      Rain  Cool   Normal    Weak   Yes"
      ]
     },
     "execution_count": 2,
     "metadata": {},
     "output_type": "execute_result"
    }
   ],
   "source": [
    "'''This dataset has various features that decide whether a person will play golf or not'''\n",
    "data = pd.read_csv('golf2.csv')\n",
    "print(data.shape)\n",
    "data.head()"
   ]
  },
  {
   "cell_type": "code",
   "execution_count": 3,
   "metadata": {},
   "outputs": [
    {
     "data": {
      "text/html": [
       "<div>\n",
       "<style scoped>\n",
       "    .dataframe tbody tr th:only-of-type {\n",
       "        vertical-align: middle;\n",
       "    }\n",
       "\n",
       "    .dataframe tbody tr th {\n",
       "        vertical-align: top;\n",
       "    }\n",
       "\n",
       "    .dataframe thead th {\n",
       "        text-align: right;\n",
       "    }\n",
       "</style>\n",
       "<table border=\"1\" class=\"dataframe\">\n",
       "  <thead>\n",
       "    <tr style=\"text-align: right;\">\n",
       "      <th></th>\n",
       "      <th>outlook</th>\n",
       "      <th>temp</th>\n",
       "      <th>humidity</th>\n",
       "      <th>wind</th>\n",
       "      <th>label</th>\n",
       "    </tr>\n",
       "  </thead>\n",
       "  <tbody>\n",
       "    <tr>\n",
       "      <th>0</th>\n",
       "      <td>Sunny</td>\n",
       "      <td>Hot</td>\n",
       "      <td>High</td>\n",
       "      <td>Weak</td>\n",
       "      <td>0</td>\n",
       "    </tr>\n",
       "    <tr>\n",
       "      <th>1</th>\n",
       "      <td>Sunny</td>\n",
       "      <td>Hot</td>\n",
       "      <td>High</td>\n",
       "      <td>Strong</td>\n",
       "      <td>0</td>\n",
       "    </tr>\n",
       "    <tr>\n",
       "      <th>2</th>\n",
       "      <td>Overcast</td>\n",
       "      <td>Hot</td>\n",
       "      <td>High</td>\n",
       "      <td>Weak</td>\n",
       "      <td>1</td>\n",
       "    </tr>\n",
       "    <tr>\n",
       "      <th>3</th>\n",
       "      <td>Rain</td>\n",
       "      <td>Mild</td>\n",
       "      <td>High</td>\n",
       "      <td>Weak</td>\n",
       "      <td>1</td>\n",
       "    </tr>\n",
       "    <tr>\n",
       "      <th>4</th>\n",
       "      <td>Rain</td>\n",
       "      <td>Cool</td>\n",
       "      <td>Normal</td>\n",
       "      <td>Weak</td>\n",
       "      <td>1</td>\n",
       "    </tr>\n",
       "  </tbody>\n",
       "</table>\n",
       "</div>"
      ],
      "text/plain": [
       "    outlook  temp humidity    wind label\n",
       "0     Sunny   Hot     High    Weak     0\n",
       "1     Sunny   Hot     High  Strong     0\n",
       "2  Overcast   Hot     High    Weak     1\n",
       "3      Rain  Mild     High    Weak     1\n",
       "4      Rain  Cool   Normal    Weak     1"
      ]
     },
     "execution_count": 3,
     "metadata": {},
     "output_type": "execute_result"
    }
   ],
   "source": [
    "#Encoding the labels to 0(No) and 1(Yes)\n",
    "for i in range(14):\n",
    "    if data['label'][i] == 'No':\n",
    "        data['label'][i] = 0\n",
    "    elif data['label'][i] == 'Yes':\n",
    "        data['label'][i] = 1\n",
    "        \n",
    "data.head()"
   ]
  },
  {
   "cell_type": "code",
   "execution_count": 4,
   "metadata": {},
   "outputs": [
    {
     "name": "stdout",
     "output_type": "stream",
     "text": [
      "Total number of 'Yes': 9 \n",
      "Total number of 'No' 5\n"
     ]
    }
   ],
   "source": [
    "#Total number of yes and no\n",
    "num_yes, num_no = 0, 0\n",
    "for i in range(14):\n",
    "    if data['label'][i] == 1:\n",
    "        num_yes += 1\n",
    "    else:\n",
    "        num_no += 1\n",
    "print(\"Total number of 'Yes':\",num_yes, \"\\nTotal number of 'No'\",num_no)"
   ]
  },
  {
   "cell_type": "code",
   "execution_count": 5,
   "metadata": {},
   "outputs": [],
   "source": [
    "#Finding the conditional probabilities \n",
    "#tdict is a ditionary with keys as the distinct values in a column, the corresponding value is a list which stores the \n",
    "#following info:\n",
    "#[num(yes), num(no), P(data|yes), P(data|no)]\n",
    "def prob_y_n(colName):\n",
    "    tdict = dict()\n",
    "    k = list(set(list(data[colName])))\n",
    "    #print(k)\n",
    "    for keys in k:\n",
    "        tdict[keys] = [0, 0, 0, 0]\n",
    "    \n",
    "    c = 0\n",
    "    for keys in data[colName]:\n",
    "        #l = data['label'][c]\n",
    "        #print(type(l))\n",
    "        if data['label'][c] == 1:\n",
    "            tdict[keys][0] += 1\n",
    "        else:\n",
    "            tdict[keys][1] += 1\n",
    "        c+=1\n",
    "    \n",
    "    for k in data[colName]:\n",
    "        tdict[k][2] = tdict[k][0] / num_yes\n",
    "        tdict[k][3] = tdict[k][1] / num_no\n",
    "    return tdict"
   ]
  },
  {
   "cell_type": "code",
   "execution_count": 6,
   "metadata": {},
   "outputs": [
    {
     "data": {
      "text/plain": [
       "Index(['outlook', 'temp', 'humidity', 'wind', 'label'], dtype='object')"
      ]
     },
     "execution_count": 6,
     "metadata": {},
     "output_type": "execute_result"
    }
   ],
   "source": [
    "data.columns"
   ]
  },
  {
   "cell_type": "code",
   "execution_count": 7,
   "metadata": {},
   "outputs": [],
   "source": [
    "#list_of_data is a list that stores all the dictionaries returned by prob_y_n()\n",
    "list_of_data = list()\n",
    "for c in data.columns:\n",
    "    list_of_data.append(prob_y_n(c))"
   ]
  },
  {
   "cell_type": "code",
   "execution_count": 8,
   "metadata": {},
   "outputs": [
    {
     "name": "stdout",
     "output_type": "stream",
     "text": [
      "{'Overcast': [4, 0, 0.4444444444444444, 0.0], 'Sunny': [2, 3, 0.2222222222222222, 0.6], 'Rain': [3, 2, 0.3333333333333333, 0.4]}\n",
      "\n",
      "\n",
      "\n",
      "{'Cool': [3, 1, 0.3333333333333333, 0.2], 'Hot': [2, 2, 0.2222222222222222, 0.4], 'Mild': [4, 2, 0.4444444444444444, 0.4]}\n",
      "\n",
      "\n",
      "\n",
      "{'High': [3, 4, 0.3333333333333333, 0.8], 'Normal': [6, 1, 0.6666666666666666, 0.2]}\n",
      "\n",
      "\n",
      "\n",
      "{'Weak': [6, 2, 0.6666666666666666, 0.4], 'Strong': [3, 3, 0.3333333333333333, 0.6]}\n",
      "\n",
      "\n",
      "\n",
      "{0: [0, 5, 0.0, 1.0], 1: [9, 0, 1.0, 0.0]}\n",
      "\n",
      "\n",
      "\n"
     ]
    }
   ],
   "source": [
    "for x in list_of_data:\n",
    "    print(x)\n",
    "    print('\\n\\n')"
   ]
  },
  {
   "cell_type": "code",
   "execution_count": 9,
   "metadata": {},
   "outputs": [],
   "source": [
    "'''This function does the final calculation\n",
    "\n",
    "    P(Class|outlook, temp, humidity, wind) = P(outlook|Class)*P(temp|Class)*P(humidity|Class)*P(wind|Class)*P(class)\n",
    "\n",
    "'''\n",
    "\n",
    "def calc_probability(outlook = None, temp = None, humidity = None, wind = None):\n",
    "    #prob stores the probability of all the classes\n",
    "    prob = list()\n",
    "    for cl in [1, 0]:\n",
    "        #p_cl = class prior probability\n",
    "        p_cl = (list_of_data[4][cl][0] + list_of_data[4][cl][1])/list(data.shape)[0]\n",
    "        #print(p_cl)\n",
    "        ind = 0\n",
    "        if cl == 1:\n",
    "            ind = 0\n",
    "        else:\n",
    "            ind = 1\n",
    "        _ = list_of_data[0][outlook][ind+2] * list_of_data[1][temp][ind+2] * list_of_data[2][humidity][ind+2] * list_of_data[3][wind][ind+2] * p_cl\n",
    "        prob.append(_)\n",
    "    \n",
    "    return prob"
   ]
  },
  {
   "cell_type": "code",
   "execution_count": 10,
   "metadata": {},
   "outputs": [
    {
     "name": "stdout",
     "output_type": "stream",
     "text": [
      "Enter the outlook, (Sunny, Overcast or Rain): Sunny\n",
      "Enter the temperature, (Hot, Cool or Mild): Hot\n",
      "Enter the humidity level, (Normal or High): High\n",
      "Enter the wind intensity: (Strong or Weak)Weak\n"
     ]
    }
   ],
   "source": [
    "ot = input('Enter the outlook(Sunny, Overcast or Rain): ')\n",
    "t = input('Enter the temperature(Hot, Cool or Mild): ')\n",
    "h = input('Enter the humidity level(Normal or High): ')\n",
    "w = input('Enter the wind intensity(Strong or Weak):')\n",
    "\n",
    "#prob = calc_probability(outlook = 'Sunny', temp = 'Hot', humidity = 'Normal', wind = 'Weak')\n",
    "prob = calc_probability(outlook = ot, temp = t, humidity = h, wind = w)"
   ]
  },
  {
   "cell_type": "code",
   "execution_count": 11,
   "metadata": {},
   "outputs": [],
   "source": [
    "if prob.index(max(prob)) == 0:\n",
    "    pred = 'YES'\n",
    "else:\n",
    "    pred = 'NO'"
   ]
  },
  {
   "cell_type": "code",
   "execution_count": 12,
   "metadata": {},
   "outputs": [
    {
     "name": "stdout",
     "output_type": "stream",
     "text": [
      "NO\n"
     ]
    }
   ],
   "source": [
    "print(pred)"
   ]
  },
  {
   "cell_type": "code",
   "execution_count": null,
   "metadata": {},
   "outputs": [],
   "source": []
  }
 ],
 "metadata": {
  "kernelspec": {
   "display_name": "Python 3",
   "language": "python",
   "name": "python3"
  },
  "language_info": {
   "codemirror_mode": {
    "name": "ipython",
    "version": 3
   },
   "file_extension": ".py",
   "mimetype": "text/x-python",
   "name": "python",
   "nbconvert_exporter": "python",
   "pygments_lexer": "ipython3",
   "version": "3.6.6"
  }
 },
 "nbformat": 4,
 "nbformat_minor": 2
}
